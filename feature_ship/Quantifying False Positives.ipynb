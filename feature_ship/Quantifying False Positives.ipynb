{
 "cells": [
  {
   "cell_type": "code",
   "execution_count": 25,
   "metadata": {},
   "outputs": [],
   "source": [
    "import numpy as np\n",
    "import pandas as pd "
   ]
  },
  {
   "cell_type": "code",
   "execution_count": 26,
   "metadata": {},
   "outputs": [],
   "source": [
    "power = 0.8 # power\n",
    "p     = 0.05 #p value\n",
    "S     = 0.25 # ship rate"
   ]
  },
  {
   "cell_type": "code",
   "execution_count": 29,
   "metadata": {},
   "outputs": [],
   "source": [
    "def get_confusion_matrix(S,p):\n",
    "    p = p / 2 # only 1 side of the distribution will ship\n",
    "    \n",
    "    # equation: B = A * [TP, FP, TN, FP]\n",
    "    # we invent A to get the confusion matrix\n",
    "\n",
    "    A = np.matrix([\n",
    "        [  power - 1   ,0      ,0      ,power]  # power\n",
    "        ,[ 0           ,p-1    , p     ,0]      # p-value\n",
    "        ,[ S-1         ,S-1    , S     ,S]      # ship rate\n",
    "        ,[ 1           ,1      , 1     ,1]      # SUM(fraq) = 1\n",
    "        ])\n",
    "\n",
    "    A_inv = np.linalg.inv(A)\n",
    "\n",
    "    B = np.array([\n",
    "        [0], \n",
    "        [0],\n",
    "        [0],\n",
    "        [1] # sum of all fractions equals to 1\n",
    "    ])\n",
    "\n",
    "    conf_matrix = A_inv * B\n",
    "    return conf_matrix\n",
    "\n",
    "\n",
    "def get_FDR(S,p):\n",
    "    '''\n",
    "    False discovery rate\n",
    "    '''\n",
    "    conf_matrix = get_confusion_matrix(S,p);\n",
    "\n",
    "    fp_given_shipped = 100.0 * float(conf_matrix[1]) / (float(conf_matrix[0]) + float(conf_matrix[1]))\n",
    "\n",
    "    return fp_given_shipped"
   ]
  },
  {
   "cell_type": "code",
   "execution_count": 30,
   "metadata": {},
   "outputs": [
    {
     "data": {
      "text/plain": [
       "matrix([[0.12903226],\n",
       "        [0.02096774],\n",
       "        [0.81774194],\n",
       "        [0.03225806]])"
      ]
     },
     "execution_count": 30,
     "metadata": {},
     "output_type": "execute_result"
    }
   ],
   "source": [
    "# Tests\n",
    "get_confusion_matrix(0.15,p)"
   ]
  },
  {
   "cell_type": "code",
   "execution_count": 31,
   "metadata": {},
   "outputs": [
    {
     "data": {
      "image/png": "[encoded data removed]",
      "text/plain": [
       "<Figure size 720x360 with 1 Axes>"
      ]
     },
     "metadata": {
      "needs_background": "light"
     },
     "output_type": "display_data"
    }
   ],
   "source": [
    "# Plot\n",
    "ship_range = np.arange(5,60,2)\n",
    "\n",
    "df = pd.DataFrame(\n",
    "    {\n",
    "    'p=0.050' :  [get_FDR(s/100,0.05) for s in ship_range],\n",
    "    'p=0.025' :  [get_FDR(s/100,0.025) for s in ship_range],\n",
    "    'p=0.010' :  [get_FDR(s/100,0.01) for s in ship_range],\n",
    "    }\n",
    "    ,index=ship_range)\n",
    "\n",
    "lines = df.plot.line(title='p(false discovery) w.r.t. ship rate'\n",
    "                     ,xlabel='ship rate (%)'\n",
    "                     ,ylabel='p(false discovery) (%)'\n",
    "                    ,figsize=(10, 5)\n",
    "                    )"
   ]
  },
  {
   "cell_type": "code",
   "execution_count": 24,
   "metadata": {},
   "outputs": [
    {
     "name": "stdout",
     "output_type": "stream",
     "text": [
      "'p(FP | shipped) w.r.t. ship rate\n"
     ]
    },
    {
     "data": {
      "text/html": [
       "<div>\n",
       "<style scoped>\n",
       "    .dataframe tbody tr th:only-of-type {\n",
       "        vertical-align: middle;\n",
       "    }\n",
       "\n",
       "    .dataframe tbody tr th {\n",
       "        vertical-align: top;\n",
       "    }\n",
       "\n",
       "    .dataframe thead th {\n",
       "        text-align: right;\n",
       "    }\n",
       "</style>\n",
       "<table border=\"1\" class=\"dataframe\">\n",
       "  <thead>\n",
       "    <tr style=\"text-align: right;\">\n",
       "      <th></th>\n",
       "      <th>p=0.050</th>\n",
       "      <th>p=0.025</th>\n",
       "      <th>p=0.010</th>\n",
       "    </tr>\n",
       "  </thead>\n",
       "  <tbody>\n",
       "    <tr>\n",
       "      <th>5</th>\n",
       "      <td>48.387097</td>\n",
       "      <td>23.809524</td>\n",
       "      <td>9.433962</td>\n",
       "    </tr>\n",
       "    <tr>\n",
       "      <th>11</th>\n",
       "      <td>20.234604</td>\n",
       "      <td>9.956710</td>\n",
       "      <td>3.945111</td>\n",
       "    </tr>\n",
       "    <tr>\n",
       "      <th>17</th>\n",
       "      <td>11.954459</td>\n",
       "      <td>5.882353</td>\n",
       "      <td>2.330744</td>\n",
       "    </tr>\n",
       "    <tr>\n",
       "      <th>23</th>\n",
       "      <td>7.994390</td>\n",
       "      <td>3.933747</td>\n",
       "      <td>1.558655</td>\n",
       "    </tr>\n",
       "    <tr>\n",
       "      <th>29</th>\n",
       "      <td>5.672970</td>\n",
       "      <td>2.791461</td>\n",
       "      <td>1.106051</td>\n",
       "    </tr>\n",
       "    <tr>\n",
       "      <th>35</th>\n",
       "      <td>4.147465</td>\n",
       "      <td>2.040816</td>\n",
       "      <td>0.808625</td>\n",
       "    </tr>\n",
       "    <tr>\n",
       "      <th>41</th>\n",
       "      <td>3.068450</td>\n",
       "      <td>1.509872</td>\n",
       "      <td>0.598251</td>\n",
       "    </tr>\n",
       "    <tr>\n",
       "      <th>47</th>\n",
       "      <td>2.264928</td>\n",
       "      <td>1.114488</td>\n",
       "      <td>0.441590</td>\n",
       "    </tr>\n",
       "    <tr>\n",
       "      <th>53</th>\n",
       "      <td>1.643335</td>\n",
       "      <td>0.808625</td>\n",
       "      <td>0.320399</td>\n",
       "    </tr>\n",
       "    <tr>\n",
       "      <th>59</th>\n",
       "      <td>1.148168</td>\n",
       "      <td>0.564972</td>\n",
       "      <td>0.223857</td>\n",
       "    </tr>\n",
       "  </tbody>\n",
       "</table>\n",
       "</div>"
      ],
      "text/plain": [
       "      p=0.050    p=0.025   p=0.010\n",
       "5   48.387097  23.809524  9.433962\n",
       "11  20.234604   9.956710  3.945111\n",
       "17  11.954459   5.882353  2.330744\n",
       "23   7.994390   3.933747  1.558655\n",
       "29   5.672970   2.791461  1.106051\n",
       "35   4.147465   2.040816  0.808625\n",
       "41   3.068450   1.509872  0.598251\n",
       "47   2.264928   1.114488  0.441590\n",
       "53   1.643335   0.808625  0.320399\n",
       "59   1.148168   0.564972  0.223857"
      ]
     },
     "execution_count": 24,
     "metadata": {},
     "output_type": "execute_result"
    }
   ],
   "source": [
    "print(\"'p(FP | shipped) w.r.t. ship rate\")\n",
    "df.iloc[::3,]"
   ]
  },
  {
   "cell_type": "code",
   "execution_count": null,
   "metadata": {},
   "outputs": [],
   "source": []
  }
 ],
 "metadata": {
  "kernelspec": {
   "display_name": "Python 3",
   "language": "python",
   "name": "python3"
  },
  "language_info": {
   "codemirror_mode": {
    "name": "ipython",
    "version": 3
   },
   "file_extension": ".py",
   "mimetype": "text/x-python",
   "name": "python",
   "nbconvert_exporter": "python",
   "pygments_lexer": "ipython3",
   "version": "3.8.0"
  }
 },
 "nbformat": 4,
 "nbformat_minor": 4
}
